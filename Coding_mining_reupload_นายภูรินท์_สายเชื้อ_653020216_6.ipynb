{
  "nbformat": 4,
  "nbformat_minor": 0,
  "metadata": {
    "colab": {
      "provenance": [],
      "authorship_tag": "ABX9TyNEH5VQ4rgUAfoE2rN0VjK2",
      "include_colab_link": true
    },
    "kernelspec": {
      "name": "python3",
      "display_name": "Python 3"
    },
    "language_info": {
      "name": "python"
    }
  },
  "cells": [
    {
      "cell_type": "markdown",
      "metadata": {
        "id": "view-in-github",
        "colab_type": "text"
      },
      "source": [
        "<a href=\"https://colab.research.google.com/github/Phurin216/bsc_dpdm24/blob/main/Coding_mining_reupload_%E0%B8%99%E0%B8%B2%E0%B8%A2%E0%B8%A0%E0%B8%B9%E0%B8%A3%E0%B8%B4%E0%B8%99%E0%B8%97%E0%B9%8C_%E0%B8%AA%E0%B8%B2%E0%B8%A2%E0%B9%80%E0%B8%8A%E0%B8%B7%E0%B9%89%E0%B8%AD_653020216_6.ipynb\" target=\"_parent\"><img src=\"https://colab.research.google.com/assets/colab-badge.svg\" alt=\"Open In Colab\"/></a>"
      ]
    },
    {
      "cell_type": "code",
      "execution_count": null,
      "metadata": {
        "colab": {
          "base_uri": "https://localhost:8080/"
        },
        "id": "mHY5SykpebQq",
        "outputId": "60c40021-6aad-47d6-992e-4df8e0c975ab"
      },
      "outputs": [
        {
          "output_type": "stream",
          "name": "stdout",
          "text": [
            "Mounted at /content/drive\n"
          ]
        }
      ],
      "source": [
        "from google.colab import drive\n",
        "drive.mount('/content/drive')"
      ]
    },
    {
      "cell_type": "code",
      "source": [
        "# นำเข้าไลบรารีที่จำเป็น\n",
        "import pandas as pd\n",
        "from sklearn.model_selection import train_test_split\n",
        "from sklearn.impute import SimpleImputer\n",
        "from sklearn.ensemble import RandomForestClassifier\n",
        "from sklearn.metrics import accuracy_score\n",
        "from sklearn.metrics import f1_score\n",
        "\n",
        "# โหลดข้อมูลจากไฟล์ CSV\n",
        "train_df = pd.read_csv(\"/content/drive/MyDrive/Model/train_set.csv\")\n",
        "x_test_df = pd.read_csv(\"/content/drive/MyDrive/Model/X_test.csv\")\n",
        "\n",
        "# ลบคอลัมน์ที่ไม่จำเป็น (id number)\n",
        "train_df_clean = train_df.drop(columns=[\"id number\"], errors='ignore')\n",
        "x_test_clean = x_test_df.drop(columns=[\"id number\"], errors='ignore')\n",
        "\n",
        "# แยก Features และ Target\n",
        "X = train_df_clean.drop(columns=[\"Thal_Group\"])\n",
        "y = train_df_clean[\"Thal_Group\"]\n",
        "\n",
        "# จัดการค่าหายไปด้วย Mean Imputation\n",
        "imputer = SimpleImputer(strategy=\"mean\")\n",
        "X_imputed = imputer.fit_transform(X)\n",
        "X_test_imputed = imputer.transform(x_test_clean)\n",
        "\n",
        "# แบ่งข้อมูล Train/Test\n",
        "X_train, X_val, y_train, y_val = train_test_split(X_imputed, y, test_size=0.2, random_state=42)\n",
        "\n",
        "# สร้างและฝึกโมเดล Random Forest\n",
        "model = RandomForestClassifier(n_estimators=100, random_state=42)\n",
        "model.fit(X_train, y_train)\n",
        "\n",
        "# ประเมินผลลัพธ์บน Validation Set\n",
        "y_val_pred = model.predict(X_val)  # 🔹 เพิ่มบรรทัดนี้!\n",
        "\n",
        "f1 = f1_score(y_val, y_val_pred, average=\"weighted\")\n",
        "print(f'F1-score on validation set: {f1:.4f}')\n",
        "\n",
        "# ทำนายค่า Thal_Group บน X_test\n",
        "y_test_pred = model.predict(X_test_imputed)\n",
        "\n",
        "# บันทึกผลลัพธ์เป็นไฟล์ CSV\n",
        "output_df = pd.DataFrame({\"Thal_Group\": y_test_pred})\n",
        "output_df.to_csv(\"y_pred.csv\", index=False)\n",
        "\n",
        "print(\"✅ การทำนายเสร็จสมบูรณ์! ไฟล์ y_pred.csv ถูกบันทึกแล้ว\")\n"
      ],
      "metadata": {
        "colab": {
          "base_uri": "https://localhost:8080/"
        },
        "id": "6U-gxrYes3qR",
        "outputId": "08382cb9-bd73-4886-d2bd-f93d3fb3938f"
      },
      "execution_count": null,
      "outputs": [
        {
          "output_type": "stream",
          "name": "stdout",
          "text": [
            "F1-score on validation set: 0.9479\n",
            "✅ การทำนายเสร็จสมบูรณ์! ไฟล์ y_pred.csv ถูกบันทึกแล้ว\n"
          ]
        }
      ]
    }
  ]
}